{
 "cells": [
  {
   "cell_type": "code",
   "execution_count": null,
   "id": "1f7a6842",
   "metadata": {},
   "outputs": [],
   "source": [
    "### 必要なライブラリのインポート\n",
    "import os\n",
    "import sys\n",
    "import pandas as pd\n",
    "import numpy as np\n",
    "\n",
    "from sklearn.metrics import mean_squared_error, mean_absolute_error, r2_score\n",
    "from sklearn.model_selection import train_test_split\n",
    "from sklearn.linear_model import ElasticNet\n",
    "from urllib.parse import urlparse\n",
    "import mlflow\n",
    "from mlflow.models.signature import infer_signature\n",
    "import mlflow.sklearn\n",
    "\n",
    "from ipywidgets import interact\n",
    "\n",
    "import logging\n",
    "logging.basicConfig(level=logging.WARN)\n",
    "logger = logging.getLogger(__name__)\n"
   ]
  },
  {
   "cell_type": "code",
   "execution_count": null,
   "id": "35ac3c36",
   "metadata": {},
   "outputs": [],
   "source": [
    "###この関数 eval_metrics() は、モデルの予測精度を評価するための3つの指標を計算する関数です。\n",
    "def eval_metrics(actual, pred):\n",
    "    ## Root Mean Squared Error（平方根平均二乗誤差）: 小さいほど予測が実際に近い（誤差が小さい）\n",
    "    rmse = np.sqrt(mean_squared_error(actual,pred))\n",
    "    ## Mean Absolute Error（平均絶対誤差）:\t誤差の平均。これも小さいほど良い\n",
    "    mae = mean_absolute_error(actual, pred)\n",
    "    ## R-squared（決定係数）: 1に近いほど「よく説明できている」\n",
    "    r2 = r2_score(actual, pred)\n",
    "    return rmse, mae, r2"
   ]
  },
  {
   "cell_type": "code",
   "execution_count": null,
   "id": "74b648d0",
   "metadata": {},
   "outputs": [
    {
     "name": "stderr",
     "output_type": "stream",
     "text": [
      "2025/08/06 15:36:44 WARNING mlflow.models.model: `artifact_path` is deprecated. Please use `name` instead.\n"
     ]
    },
    {
     "name": "stdout",
     "output_type": "stream",
     "text": [
      "Elasticnet model (alpha=0.500000, l1_ratio=0.500000)\n",
      " RMSE: 0.756652810029142\n",
      " MAE: 0.6057857247169067\n",
      " R2: 0.11877946351646929\n"
     ]
    }
   ],
   "source": [
    "if __name__==\"__main__\":\n",
    "    ## データの読み込み\n",
    "    csv_url=(\"https://raw.githubusercontent.com/mlflow/mlflow/master/tests/datasets/winequality-red.csv\")\n",
    "\n",
    "    try:\n",
    "        data = pd.read_csv(csv_url, sep=\";\")\n",
    "    except Exception as e :\n",
    "        logger.exception(\"Unable to download the data\")\n",
    "    ## データの分割\n",
    "    train, test = train_test_split(data)\n",
    "\n",
    "    train_x = train.drop([\"quality\"], axis = 1)\n",
    "    test_x = test.drop([\"quality\"], axis = 1)\n",
    "    train_y = train[[\"quality\"]]\n",
    "    test_y = test[[\"quality\"]]\n",
    "\n",
    "    ## モデルのパラメータ設定\n",
    "    alpha =  0.5\n",
    "    l1_ratio =  0.5\n",
    "\n",
    "    with mlflow.start_run():\n",
    "        ## モデルの訓練と予測\n",
    "        lr = ElasticNet(alpha=alpha, l1_ratio=l1_ratio, random_state=42)\n",
    "        lr.fit(train_x, train_y)\n",
    "        predicted_qualities = lr.predict(test_x)\n",
    "        \n",
    "        ## 評価指標の計算と表示\n",
    "        (rmse, mae, r2)  = eval_metrics(test_y, predicted_qualities)\n",
    "        print(\"Elasticnet model (alpha={:f}, l1_ratio={:f})\".format(alpha, l1_ratio))\n",
    "        print(\" RMSE: %s\" % rmse)\n",
    "        print(\" MAE: %s\" % mae)\n",
    "        print(\" R2: %s\" % r2)\n",
    "\n",
    "        ## MLflow に記録（ログ）\n",
    "        mlflow.log_param(\"alpha\", alpha)\n",
    "        mlflow.log_param(\"l1_ratio\", l1_ratio)\n",
    "        mlflow.log_metric(\"rmse\", rmse)\n",
    "        mlflow.log_metric(\"r2\", r2)\n",
    "        mlflow.log_metric(\"mae\", mae)\n",
    "\n",
    "        ## MLflow の記録先を設定\n",
    "        remote_server_uri = \"http://ec2-3-115-116-130.ap-northeast-1.compute.amazonaws.com:5000/\"\n",
    "        mlflow.set_tracking_uri(remote_server_uri)\n",
    "        \n",
    "        ## モデルの保存\n",
    "        tracking_url_type_store = urlparse(mlflow.get_tracking_uri()).scheme\n",
    "\n",
    "        ## MLflow tracking URI がローカルファイルじゃない場合（たとえば AWS EC2 の HTTP URI のとき）：→\n",
    "        # モデルを「ElasticnetWineModel」としてレジストリに登録（バージョン管理される）\n",
    "        if tracking_url_type_store!=\"file\":\n",
    "            mlflow.sklearn.log_model(\n",
    "                lr,\"model\", registered_model_name=\"ElsaticnetWineModel\"\n",
    "            )\n",
    "        ## ローカルファイルの場合は、普通にモデルだけ保存（レジストリには登録しない）\n",
    "        else:\n",
    "            mlflow.sklearn.log_model(lr, \"model\")"
   ]
  },
  {
   "cell_type": "code",
   "execution_count": null,
   "id": "516a61ba",
   "metadata": {},
   "outputs": [],
   "source": []
  },
  {
   "cell_type": "code",
   "execution_count": null,
   "id": "e524aa92",
   "metadata": {},
   "outputs": [],
   "source": []
  }
 ],
 "metadata": {
  "kernelspec": {
   "display_name": "Python 3",
   "language": "python",
   "name": "python3"
  },
  "language_info": {
   "codemirror_mode": {
    "name": "ipython",
    "version": 3
   },
   "file_extension": ".py",
   "mimetype": "text/x-python",
   "name": "python",
   "nbconvert_exporter": "python",
   "pygments_lexer": "ipython3",
   "version": "3.10.18"
  }
 },
 "nbformat": 4,
 "nbformat_minor": 5
}
